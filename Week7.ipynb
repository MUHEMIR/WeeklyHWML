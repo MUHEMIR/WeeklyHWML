{
  "nbformat": 4,
  "nbformat_minor": 0,
  "metadata": {
    "colab": {
      "name": "Week7.ipynb",
      "provenance": [],
      "mount_file_id": "1RR1iHkgMKX1KdSpSWr-7gJrv6vNuZvhd",
      "authorship_tag": "ABX9TyMOseO+fAGZ6Yn1dc17D7wv",
      "include_colab_link": true
    },
    "kernelspec": {
      "name": "python3",
      "display_name": "Python 3"
    },
    "language_info": {
      "name": "python"
    }
  },
  "cells": [
    {
      "cell_type": "markdown",
      "metadata": {
        "id": "view-in-github",
        "colab_type": "text"
      },
      "source": [
        "<a href=\"https://colab.research.google.com/github/MUHEMIR/WeeklyHWML/blob/main/Week7.ipynb\" target=\"_parent\"><img src=\"https://colab.research.google.com/assets/colab-badge.svg\" alt=\"Open In Colab\"/></a>"
      ]
    },
    {
      "cell_type": "code",
      "metadata": {
        "id": "COu8TiUKJ29W"
      },
      "source": [
        "import os\n",
        "if not os.path.exists(\"/content/drive/MyDrive/Datasets/train.csv\"):\n",
        "    os.symlink(\"../input/home-data-for-ml-course/train.csv\", \"/content/drive/MyDrive/Datasets/train.csv\")  \n",
        "    os.symlink(\"../input/home-data-for-ml-course/test.csv\", \"/content/drive/MyDrive/Datasets/test.csv\") \n",
        "import pandas as pd\n",
        "from xgboost import XGBRegressor\n",
        "from sklearn.model_selection import train_test_split\n",
        "from sklearn.metrics import mean_absolute_error\n",
        "from sklearn.metrics import mean_absolute_error\n",
        "\n",
        "# Read the data\n",
        "X = pd.read_csv('/content/drive/MyDrive/Datasets/train.csv', index_col='Id')\n",
        "X_test_full = pd.read_csv('/content/drive/MyDrive/Datasets/test.csv', index_col='Id')\n",
        "\n",
        "# Remove rows with missing target, separate target from predictors\n",
        "X.dropna(axis=0, subset=['SalePrice'], inplace=True)\n",
        "y = X.SalePrice              \n",
        "X.drop(['SalePrice'], axis=1, inplace=True)\n",
        "\n",
        "# Break off validation set from training data\n",
        "X_train_full, X_valid_full, y_train, y_valid = train_test_split(X, y, train_size=0.8, test_size=0.2,\n",
        "                                                                random_state=0)\n",
        "\n",
        "# \"Cardinality\" means the number of unique values in a column\n",
        "# Select categorical columns with relatively low cardinality (convenient but arbitrary)\n",
        "low_cardinality_cols = [cname for cname in X_train_full.columns if X_train_full[cname].nunique() < 10 and \n",
        "                        X_train_full[cname].dtype == \"object\"]\n",
        "\n",
        "# Select numeric columns\n",
        "numeric_cols = [cname for cname in X_train_full.columns if X_train_full[cname].dtype in ['int64', 'float64']]\n",
        "\n",
        "# Keep selected columns only\n",
        "my_cols = low_cardinality_cols + numeric_cols\n",
        "X_train = X_train_full[my_cols].copy()\n",
        "X_valid = X_valid_full[my_cols].copy()\n",
        "X_test = X_test_full[my_cols].copy()\n",
        "\n",
        "# One-hot encode the data (to shorten the code, we use pandas)\n",
        "X_train = pd.get_dummies(X_train)\n",
        "X_valid = pd.get_dummies(X_valid)\n",
        "X_test = pd.get_dummies(X_test)\n",
        "X_train, X_valid = X_train.align(X_valid, join='left', axis=1)\n",
        "X_train, X_test = X_train.align(X_test, join='left', axis=1)"
      ],
      "execution_count": 19,
      "outputs": []
    },
    {
      "cell_type": "code",
      "metadata": {
        "colab": {
          "base_uri": "https://localhost:8080/"
        },
        "id": "IBr90uYbMuOF",
        "outputId": "8d667606-3eb2-4b5e-ebf3-b9469b94f19d"
      },
      "source": [
        "# Define the model\n",
        "my_model_1 = XGBRegressor(random_state=0) \n",
        "my_model_2 = XGBRegressor(n_estimators=1000, learning_rate=0.05)\n",
        "my_model_3 = XGBRegressor(n_estimators=1)\n",
        "\n",
        "# Fit the model\n",
        "my_model_1.fit(X_train, y_train)\n",
        "my_model_2.fit(X_train, y_train)\n",
        "my_model_3.fit(X_train, y_train)\n",
        "\n",
        "\n",
        "\n",
        "# Get predictions\n",
        "predictions_1 = my_model_1.predict(X_valid)\n",
        "predictions_2 = my_model_2.predict(X_valid)\n",
        "predictions_3 = my_model_3.predict(X_valid)"
      ],
      "execution_count": 20,
      "outputs": [
        {
          "output_type": "stream",
          "name": "stdout",
          "text": [
            "[19:00:17] WARNING: /workspace/src/objective/regression_obj.cu:152: reg:linear is now deprecated in favor of reg:squarederror.\n",
            "[19:00:17] WARNING: /workspace/src/objective/regression_obj.cu:152: reg:linear is now deprecated in favor of reg:squarederror.\n",
            "[19:00:24] WARNING: /workspace/src/objective/regression_obj.cu:152: reg:linear is now deprecated in favor of reg:squarederror.\n"
          ]
        }
      ]
    },
    {
      "cell_type": "code",
      "metadata": {
        "colab": {
          "base_uri": "https://localhost:8080/"
        },
        "id": "_-BJXQDvNIB9",
        "outputId": "a6756175-1619-4d5b-92e1-5f4c19ea149e"
      },
      "source": [
        "# Calculate MAE\n",
        "\n",
        "mae_1 = mean_absolute_error(predictions_1, y_valid)\n",
        "mae_2 = mean_absolute_error(predictions_2, y_valid)\n",
        "mae_3 = mean_absolute_error(predictions_3, y_valid)\n",
        "print(\"Mean Absolute Error mae_1:\" , mae_1)\n",
        "print(\"Mean Absolute Error mae_2:\" , mae_2)\n",
        "print(\"Mean Absolute Error mae_3:\" , mae_3)"
      ],
      "execution_count": 21,
      "outputs": [
        {
          "output_type": "stream",
          "name": "stdout",
          "text": [
            "Mean Absolute Error mae_1: 16803.434690710616\n",
            "Mean Absolute Error mae_2: 16084.123354559075\n",
            "Mean Absolute Error mae_3: 163382.59044574058\n"
          ]
        }
      ]
    }
  ]
}